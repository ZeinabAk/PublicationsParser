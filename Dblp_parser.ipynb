{
 "cells": [
  {
   "cell_type": "code",
   "execution_count": 2,
   "metadata": {},
   "outputs": [],
   "source": [
    "import json,csv\n",
    "import pandas as pd\n",
    "from functions import *\n",
    "import ast\n",
    "import time\n",
    "import numpy as np"
   ]
  },
  {
   "cell_type": "code",
   "execution_count": null,
   "metadata": {},
   "outputs": [],
   "source": [
    "%run main.py --dblp data/dblp-2021-04-01.xml --output data/output.json"
   ]
  },
  {
   "cell_type": "code",
   "execution_count": 3,
   "metadata": {},
   "outputs": [],
   "source": [
    "# Using readlines()\n",
    "file = open('data/output.json', 'r')\n",
    "Lines = file.readlines()"
   ]
  },
  {
   "cell_type": "code",
   "execution_count": 34,
   "metadata": {},
   "outputs": [],
   "source": [
    "def get_venue_pub(conf):\n",
    "    pubList=[]\n",
    "    csv_keys=set()\n",
    "    for line in Lines:\n",
    "        publication=json.loads(line)\n",
    "        if (\"author\" in publication.keys()) & (\"booktitle\" in publication.keys()):\n",
    "                if publication['booktitle'].lower()==conf.lower():\n",
    "                    #csv_keys.update(list(publication.keys()))\n",
    "                    pubList.append(publication)\n",
    "    df = pd.DataFrame(pubList)\n",
    "    df.to_csv('data/'+conf+'.csv', index=False) \n",
    "    return pd.read_csv('data/'+conf+'.csv')"
   ]
  },
  {
   "cell_type": "code",
   "execution_count": 38,
   "metadata": {},
   "outputs": [
    {
     "data": {
      "text/html": [
       "<div>\n",
       "<style scoped>\n",
       "    .dataframe tbody tr th:only-of-type {\n",
       "        vertical-align: middle;\n",
       "    }\n",
       "\n",
       "    .dataframe tbody tr th {\n",
       "        vertical-align: top;\n",
       "    }\n",
       "\n",
       "    .dataframe thead th {\n",
       "        text-align: right;\n",
       "    }\n",
       "</style>\n",
       "<table border=\"1\" class=\"dataframe\">\n",
       "  <thead>\n",
       "    <tr style=\"text-align: right;\">\n",
       "      <th></th>\n",
       "      <th>author</th>\n",
       "      <th>title</th>\n",
       "      <th>pages</th>\n",
       "      <th>year</th>\n",
       "      <th>booktitle</th>\n",
       "      <th>ee</th>\n",
       "      <th>crossref</th>\n",
       "      <th>url</th>\n",
       "      <th>genre</th>\n",
       "    </tr>\n",
       "  </thead>\n",
       "  <tbody>\n",
       "    <tr>\n",
       "      <th>0</th>\n",
       "      <td>['Craig Anslow']</td>\n",
       "      <td>Reflections on Collaborative Software Visualiz...</td>\n",
       "      <td>['645-650']</td>\n",
       "      <td>2014</td>\n",
       "      <td>ICSME</td>\n",
       "      <td>['https://doi.org/10.1109/ICSME.2014.115', 'ht...</td>\n",
       "      <td>['conf/icsm/2014']</td>\n",
       "      <td>['db/conf/icsm/icsme2014.html#Anslow14']</td>\n",
       "      <td>inproceedings</td>\n",
       "    </tr>\n",
       "  </tbody>\n",
       "</table>\n",
       "</div>"
      ],
      "text/plain": [
       "             author                                              title  \\\n",
       "0  ['Craig Anslow']  Reflections on Collaborative Software Visualiz...   \n",
       "\n",
       "         pages  year booktitle  \\\n",
       "0  ['645-650']  2014     ICSME   \n",
       "\n",
       "                                                  ee            crossref  \\\n",
       "0  ['https://doi.org/10.1109/ICSME.2014.115', 'ht...  ['conf/icsm/2014']   \n",
       "\n",
       "                                        url          genre  \n",
       "0  ['db/conf/icsm/icsme2014.html#Anslow14']  inproceedings  "
      ]
     },
     "execution_count": 38,
     "metadata": {},
     "output_type": "execute_result"
    }
   ],
   "source": [
    "#get ICSME data\n",
    "ICSME=get_venue_pub('ICSME')\n",
    "ICSME.head(1)"
   ]
  },
  {
   "cell_type": "code",
   "execution_count": 37,
   "metadata": {},
   "outputs": [
    {
     "data": {
      "text/html": [
       "<div>\n",
       "<style scoped>\n",
       "    .dataframe tbody tr th:only-of-type {\n",
       "        vertical-align: middle;\n",
       "    }\n",
       "\n",
       "    .dataframe tbody tr th {\n",
       "        vertical-align: top;\n",
       "    }\n",
       "\n",
       "    .dataframe thead th {\n",
       "        text-align: right;\n",
       "    }\n",
       "</style>\n",
       "<table border=\"1\" class=\"dataframe\">\n",
       "  <thead>\n",
       "    <tr style=\"text-align: right;\">\n",
       "      <th></th>\n",
       "      <th>author</th>\n",
       "      <th>title</th>\n",
       "      <th>pages</th>\n",
       "      <th>year</th>\n",
       "      <th>booktitle</th>\n",
       "      <th>ee</th>\n",
       "      <th>crossref</th>\n",
       "      <th>url</th>\n",
       "      <th>genre</th>\n",
       "    </tr>\n",
       "  </thead>\n",
       "  <tbody>\n",
       "    <tr>\n",
       "      <th>0</th>\n",
       "      <td>['Yuan-Fang Li', 'Hongyu Zhang 0002']</td>\n",
       "      <td>Integrating software engineering data using se...</td>\n",
       "      <td>['211-214']</td>\n",
       "      <td>2011</td>\n",
       "      <td>MSR</td>\n",
       "      <td>['https://doi.org/10.1145/1985441.1985473']</td>\n",
       "      <td>['conf/msr/2011']</td>\n",
       "      <td>['db/conf/msr/msr2011.html#LiZ11']</td>\n",
       "      <td>inproceedings</td>\n",
       "    </tr>\n",
       "  </tbody>\n",
       "</table>\n",
       "</div>"
      ],
      "text/plain": [
       "                                  author  \\\n",
       "0  ['Yuan-Fang Li', 'Hongyu Zhang 0002']   \n",
       "\n",
       "                                               title        pages  year  \\\n",
       "0  Integrating software engineering data using se...  ['211-214']  2011   \n",
       "\n",
       "  booktitle                                           ee           crossref  \\\n",
       "0       MSR  ['https://doi.org/10.1145/1985441.1985473']  ['conf/msr/2011']   \n",
       "\n",
       "                                  url          genre  \n",
       "0  ['db/conf/msr/msr2011.html#LiZ11']  inproceedings  "
      ]
     },
     "execution_count": 37,
     "metadata": {},
     "output_type": "execute_result"
    }
   ],
   "source": [
    "#get MSR data\n",
    "MSR=get_venue_pub('MSR')\n",
    "MSR.head(1)"
   ]
  },
  {
   "cell_type": "code",
   "execution_count": 35,
   "metadata": {},
   "outputs": [
    {
     "data": {
      "text/html": [
       "<div>\n",
       "<style scoped>\n",
       "    .dataframe tbody tr th:only-of-type {\n",
       "        vertical-align: middle;\n",
       "    }\n",
       "\n",
       "    .dataframe tbody tr th {\n",
       "        vertical-align: top;\n",
       "    }\n",
       "\n",
       "    .dataframe thead th {\n",
       "        text-align: right;\n",
       "    }\n",
       "</style>\n",
       "<table border=\"1\" class=\"dataframe\">\n",
       "  <thead>\n",
       "    <tr style=\"text-align: right;\">\n",
       "      <th></th>\n",
       "      <th>author</th>\n",
       "      <th>title</th>\n",
       "      <th>pages</th>\n",
       "      <th>year</th>\n",
       "      <th>booktitle</th>\n",
       "      <th>ee</th>\n",
       "      <th>crossref</th>\n",
       "      <th>url</th>\n",
       "      <th>genre</th>\n",
       "    </tr>\n",
       "  </thead>\n",
       "  <tbody>\n",
       "    <tr>\n",
       "      <th>0</th>\n",
       "      <td>['Ayushi Rastogi', 'Nachiappan Nagappan']</td>\n",
       "      <td>Forking and the Sustainability of the Develope...</td>\n",
       "      <td>['102-111']</td>\n",
       "      <td>2016</td>\n",
       "      <td>SANER</td>\n",
       "      <td>['https://doi.org/10.1109/SANER.2016.27', 'htt...</td>\n",
       "      <td>['conf/wcre/2016']</td>\n",
       "      <td>['db/conf/wcre/saner2016.html#RastogiN16']</td>\n",
       "      <td>inproceedings</td>\n",
       "    </tr>\n",
       "  </tbody>\n",
       "</table>\n",
       "</div>"
      ],
      "text/plain": [
       "                                      author  \\\n",
       "0  ['Ayushi Rastogi', 'Nachiappan Nagappan']   \n",
       "\n",
       "                                               title        pages  year  \\\n",
       "0  Forking and the Sustainability of the Develope...  ['102-111']  2016   \n",
       "\n",
       "  booktitle                                                 ee  \\\n",
       "0     SANER  ['https://doi.org/10.1109/SANER.2016.27', 'htt...   \n",
       "\n",
       "             crossref                                         url  \\\n",
       "0  ['conf/wcre/2016']  ['db/conf/wcre/saner2016.html#RastogiN16']   \n",
       "\n",
       "           genre  \n",
       "0  inproceedings  "
      ]
     },
     "execution_count": 35,
     "metadata": {},
     "output_type": "execute_result"
    }
   ],
   "source": [
    "#get SANER data\n",
    "SANER=get_venue_pub('SANER')\n",
    "SANER.head(1)"
   ]
  },
  {
   "cell_type": "code",
   "execution_count": 30,
   "metadata": {},
   "outputs": [],
   "source": [
    "df = pd.read_csv(\"data/SANER.csv\")"
   ]
  },
  {
   "cell_type": "code",
   "execution_count": 36,
   "metadata": {},
   "outputs": [
    {
     "data": {
      "text/html": [
       "<div>\n",
       "<style scoped>\n",
       "    .dataframe tbody tr th:only-of-type {\n",
       "        vertical-align: middle;\n",
       "    }\n",
       "\n",
       "    .dataframe tbody tr th {\n",
       "        vertical-align: top;\n",
       "    }\n",
       "\n",
       "    .dataframe thead th {\n",
       "        text-align: right;\n",
       "    }\n",
       "</style>\n",
       "<table border=\"1\" class=\"dataframe\">\n",
       "  <thead>\n",
       "    <tr style=\"text-align: right;\">\n",
       "      <th></th>\n",
       "      <th>author</th>\n",
       "      <th>title</th>\n",
       "      <th>pages</th>\n",
       "      <th>year</th>\n",
       "      <th>crossref</th>\n",
       "      <th>booktitle</th>\n",
       "      <th>ee</th>\n",
       "      <th>url</th>\n",
       "      <th>genre</th>\n",
       "    </tr>\n",
       "  </thead>\n",
       "  <tbody>\n",
       "    <tr>\n",
       "      <th>0</th>\n",
       "      <td>['Qing Xie 0008']</td>\n",
       "      <td>Developing cost-effective model-based techniqu...</td>\n",
       "      <td>['997-1000']</td>\n",
       "      <td>2006</td>\n",
       "      <td>['conf/icse/2006']</td>\n",
       "      <td>ICSE</td>\n",
       "      <td>['https://doi.org/10.1145/1134285.1134473']</td>\n",
       "      <td>['db/conf/icse/icse2006.html#Xie06']</td>\n",
       "      <td>inproceedings</td>\n",
       "    </tr>\n",
       "  </tbody>\n",
       "</table>\n",
       "</div>"
      ],
      "text/plain": [
       "              author                                              title  \\\n",
       "0  ['Qing Xie 0008']  Developing cost-effective model-based techniqu...   \n",
       "\n",
       "          pages  year            crossref booktitle  \\\n",
       "0  ['997-1000']  2006  ['conf/icse/2006']      ICSE   \n",
       "\n",
       "                                            ee  \\\n",
       "0  ['https://doi.org/10.1145/1134285.1134473']   \n",
       "\n",
       "                                    url          genre  \n",
       "0  ['db/conf/icse/icse2006.html#Xie06']  inproceedings  "
      ]
     },
     "execution_count": 36,
     "metadata": {},
     "output_type": "execute_result"
    }
   ],
   "source": [
    "#get ICSE data\n",
    "ICSE=get_venue_pub('ICSE')\n",
    "ICSE.head(1)"
   ]
  },
  {
   "cell_type": "markdown",
   "metadata": {},
   "source": [
    "## Statistics:"
   ]
  },
  {
   "cell_type": "code",
   "execution_count": 40,
   "metadata": {},
   "outputs": [],
   "source": [
    "conferences=['SANER','MSR','ICSME','ICSE']"
   ]
  },
  {
   "cell_type": "code",
   "execution_count": 43,
   "metadata": {},
   "outputs": [
    {
     "name": "stdout",
     "output_type": "stream",
     "text": [
      "The number of publications for conference SANER is: 474\n",
      "The number of publications for conference MSR is: 838\n",
      "The number of publications for conference ICSME is: 636\n",
      "The number of publications for conference ICSE is: 3770\n"
     ]
    }
   ],
   "source": [
    "for conf in conferences:\n",
    "    df=pd.read_csv('data/'+conf+'.csv')\n",
    "    print('The number of publications for conference', conf,'is:', len(df))"
   ]
  },
  {
   "cell_type": "code",
   "execution_count": null,
   "metadata": {},
   "outputs": [],
   "source": []
  },
  {
   "cell_type": "code",
   "execution_count": null,
   "metadata": {},
   "outputs": [],
   "source": []
  }
 ],
 "metadata": {
  "kernelspec": {
   "display_name": "Python 3",
   "language": "python",
   "name": "python3"
  },
  "language_info": {
   "codemirror_mode": {
    "name": "ipython",
    "version": 3
   },
   "file_extension": ".py",
   "mimetype": "text/x-python",
   "name": "python",
   "nbconvert_exporter": "python",
   "pygments_lexer": "ipython3",
   "version": "3.7.7"
  }
 },
 "nbformat": 4,
 "nbformat_minor": 4
}
